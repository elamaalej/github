{
  "nbformat": 4,
  "nbformat_minor": 0,
  "metadata": {
    "colab": {
      "name": "functions.ipynb",
      "provenance": []
    },
    "kernelspec": {
      "name": "python3",
      "display_name": "Python 3"
    },
    "language_info": {
      "name": "python"
    }
  },
  "cells": [
    {
      "cell_type": "code",
      "metadata": {
        "colab": {
          "base_uri": "https://localhost:8080/"
        },
        "id": "-7RDfWXYuqfG",
        "outputId": "d0d4a6fa-d4db-42e0-dcb8-30f730e36a02"
      },
      "source": [
        "#QUESTION1\n",
        "def mylist(a,b,c):\n",
        "  if a>b and a>c:\n",
        "   return(a)\n",
        "  elif b>c:\n",
        "    return(b)\n",
        "  else:\n",
        "    return(c)\n",
        "mylist(20,35,19)"
      ],
      "execution_count": 2,
      "outputs": [
        {
          "output_type": "execute_result",
          "data": {
            "text/plain": [
              "35"
            ]
          },
          "metadata": {
            "tags": []
          },
          "execution_count": 2
        }
      ]
    },
    {
      "cell_type": "code",
      "metadata": {
        "colab": {
          "base_uri": "https://localhost:8080/"
        },
        "id": "7bNzHi63yjBf",
        "outputId": "75ee80a9-e621-4cf6-cfd2-43942ab259ff"
      },
      "source": [
        "#QUESTION2\n",
        "def test(a,b):\n",
        "  return a+b,a-b\n",
        "x=test(40,10)\n",
        "print(x)\n"
      ],
      "execution_count": 17,
      "outputs": [
        {
          "output_type": "stream",
          "text": [
            "(50, 30)\n"
          ],
          "name": "stdout"
        }
      ]
    },
    {
      "cell_type": "code",
      "metadata": {
        "colab": {
          "base_uri": "https://localhost:8080/"
        },
        "id": "RmGA90-NsJT3",
        "outputId": "4ae53497-c3b3-4f6e-c049-fff61ad7be57"
      },
      "source": [
        "#QUESTION3\n",
        "\n",
        "#function to add items\n",
        "def additems(myitems):\n",
        "  s=0\n",
        "  for item in myitems:\n",
        "    s=s+item\n",
        "  return s\n",
        "\n",
        "#function to multiply items\n",
        "def multiplyitems(myitems):\n",
        "  s=1\n",
        "  for item in myitems:\n",
        "    s=s*item\n",
        "  return s\n",
        "\n",
        "#call of the funtion adding items\n",
        "mylist=[5,4,20,62]\n",
        "print(additems(mylist))\n",
        "\n",
        "#call of the function multiplying items\n",
        "print(multiplyitems(mylist))\n",
        "\n",
        "#call of the two funtions together\n",
        "mylist=[1,2,3,4]\n",
        "j=0\n",
        "even_pos_numbers=[]\n",
        "odd_pos_numbers=[]\n",
        "for item in mylist:\n",
        "  if j%2==0:\n",
        "    even_pos_numbers.append(item)\n",
        "  else:\n",
        "    odd_pos_numbers.append(item)\n",
        "  j=j+1\n",
        "print(even_pos_numbers)\n",
        "print(odd_pos_numbers)\n",
        "print(additems(even_pos_numbers))\n",
        "print(multiplyitems(odd_pos_numbers))\n"
      ],
      "execution_count": 18,
      "outputs": [
        {
          "output_type": "stream",
          "text": [
            "91\n",
            "24800\n",
            "[1, 3]\n",
            "[2, 4]\n",
            "4\n",
            "8\n"
          ],
          "name": "stdout"
        }
      ]
    },
    {
      "cell_type": "code",
      "metadata": {
        "colab": {
          "base_uri": "https://localhost:8080/"
        },
        "id": "sTeqGjmE85Kp",
        "outputId": "f8ac7a5b-8f10-4fc2-c418-029a1061067a"
      },
      "source": [
        "#QUESTION4\n",
        "words=\"green-red-yellow-black-white\"\n",
        "wordslist=words.split(\"-\")\n",
        "wordslist.sort()\n",
        "s=\"\"\n",
        "hyphen=\"\"\n",
        "for word in wordslist:\n",
        "  s=s+hyphen+word\n",
        "  hyphen=\"-\"\n",
        "print(s)"
      ],
      "execution_count": 27,
      "outputs": [
        {
          "output_type": "stream",
          "text": [
            "black-green-red-white-yellow\n"
          ],
          "name": "stdout"
        }
      ]
    },
    {
      "cell_type": "code",
      "metadata": {
        "colab": {
          "base_uri": "https://localhost:8080/"
        },
        "id": "fe9qFvORHiyu",
        "outputId": "364b64c7-a7d2-426a-a97c-f5b4b5620a0e"
      },
      "source": [
        "#QUESTION5\n",
        "\n",
        "#function to calculate many times the same expression\n",
        "def multi_calculator(numbers):\n",
        "  import math \n",
        "  comma=\"\"\n",
        "  s=\"\"\n",
        "  numbers_list=numbers.split(\",\")\n",
        "  c=50\n",
        "  h=30\n",
        "  for number in numbers_list:\n",
        "    d=int(number)\n",
        "    q=math.trunc(math.sqrt(2*c*d/h))\n",
        "    s=s+comma+str(q)\n",
        "    comma=\",\"\n",
        "  return s\n",
        "  \n",
        "#call the function\n",
        "print(multi_calculator(\"100,150,180\"))"
      ],
      "execution_count": 36,
      "outputs": [
        {
          "output_type": "stream",
          "text": [
            "18,22,24\n"
          ],
          "name": "stdout"
        }
      ]
    },
    {
      "cell_type": "code",
      "metadata": {
        "id": "2oT8ONhbNZNM"
      },
      "source": [
        ""
      ],
      "execution_count": null,
      "outputs": []
    }
  ]
}