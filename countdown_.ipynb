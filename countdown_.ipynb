{
  "nbformat": 4,
  "nbformat_minor": 0,
  "metadata": {
    "colab": {
      "name": "countdown .ipynb",
      "provenance": [],
      "collapsed_sections": []
    },
    "kernelspec": {
      "name": "python3",
      "display_name": "Python 3"
    },
    "language_info": {
      "name": "python"
    }
  },
  "cells": [
    {
      "cell_type": "code",
      "metadata": {
        "id": "5HDLeV3WTgT3",
        "colab": {
          "base_uri": "https://localhost:8080/"
        },
        "outputId": "9b42fe4a-7e56-46d9-8e0e-0b53c4ecc506"
      },
      "source": [
        "#In this project, we will be using the time module and its sleep() function. Follow the below steps to create a countdown timer:\n",
        "\n",
        "#1.Import the time module.\n",
        "#2.Ask the user to input the length of the countdown in seconds.\n",
        "#3.This value is sent as a parameter ‘t’ to the user-defined function countdown(). \n",
        "#Any variable read using the input function is a string. So, convert this parameter to ‘int’ as it is of string type.\n",
        "#4.In this function, a while loop runs until time becomes 0.\n",
        "#5.Use divmod() to calculate the number of minutes and seconds. You can read more about it here.\n",
        "#6.Now print the minutes and seconds on the screen using the variable timeformat.\n",
        "#7.Using end = ‘\\r’ we force the cursor to go back to the start of the screen (carriage return) so that the next line printed will overwrite the previous one.\n",
        "#8.The time.sleep() is used to make the code wait for one sec.\n",
        "#9.Now decrement time so that the while loop can converge.\n",
        "#10.After the completion of the loop, we will print “Fire in the hole” to signify the end of the countdown\n"
      ],
      "execution_count": 34,
      "outputs": [
        {
          "output_type": "stream",
          "text": [
            "time in seconds10\n"
          ],
          "name": "stdout"
        }
      ]
    },
    {
      "cell_type": "code",
      "metadata": {
        "colab": {
          "base_uri": "https://localhost:8080/"
        },
        "id": "JK1MfA3ZBEwk",
        "outputId": "12d15d8e-aa01-4f7d-b1bf-aca037e0ae1b"
      },
      "source": [
        "# import the time module\n",
        "import time\n",
        "\n",
        "# define the countdown func.\n",
        "\n",
        "def countdown(t):\n",
        "  while t>=0:\n",
        "    mins, secs = divmod(t, 60)\n",
        "    timer = '{:02d}:{:02d}'.format(mins, secs)\n",
        "    print(timer)\n",
        "    time.sleep(1)\n",
        "    t = t-1\n",
        "\n",
        "t = input(\"what is your countdown time in seconds? \")\n",
        "countdown(int(t))\n"
      ],
      "execution_count": 39,
      "outputs": [
        {
          "output_type": "stream",
          "text": [
            "what is your countdown time in seconds? 5\n",
            "00:05\n",
            "00:04\n",
            "00:03\n",
            "00:02\n",
            "00:01\n",
            "00:00\n"
          ],
          "name": "stdout"
        }
      ]
    },
    {
      "cell_type": "code",
      "metadata": {
        "colab": {
          "base_uri": "https://localhost:8080/"
        },
        "id": "g0snyCNMND1I",
        "outputId": "5c48d595-0570-40da-bcdb-d2e59c577488"
      },
      "source": [
        "print(1)\n",
        "print(2, end=\"\\r\", flush=True)\n",
        "print(3, end=\"\\r\", flush=True)"
      ],
      "execution_count": 29,
      "outputs": [
        {
          "output_type": "stream",
          "text": [
            "1\n"
          ],
          "name": "stdout"
        }
      ]
    }
  ]
}