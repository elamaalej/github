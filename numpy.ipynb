{
  "nbformat": 4,
  "nbformat_minor": 0,
  "metadata": {
    "colab": {
      "name": "numpy.ipynb",
      "provenance": []
    },
    "kernelspec": {
      "name": "python3",
      "display_name": "Python 3"
    },
    "language_info": {
      "name": "python"
    }
  },
  "cells": [
    {
      "cell_type": "code",
      "metadata": {
        "colab": {
          "base_uri": "https://localhost:8080/"
        },
        "id": "1hpoiTHim_p-",
        "outputId": "96cb20f6-e53d-40cf-dca7-e03bee6ef314"
      },
      "source": [
        "#Question 1\n",
        "#Write a Python program to convert an array to an ordinary list with the same items.\n",
        "#we can use the np.tolist() function\n",
        "import numpy as np\n",
        "a = np.array([(1, 2), (3, 4), (5,6)])\n",
        "b=a.tolist()\n",
        "print(b)"
      ],
      "execution_count": null,
      "outputs": [
        {
          "output_type": "stream",
          "text": [
            "[[1, 2], [3, 4], [5, 6]]\n"
          ],
          "name": "stdout"
        }
      ]
    },
    {
      "cell_type": "code",
      "metadata": {
        "colab": {
          "base_uri": "https://localhost:8080/"
        },
        "id": "-QoA_D-Aftwv",
        "outputId": "de6e9f4d-1d24-4aa4-f563-6d7702fce905"
      },
      "source": [
        "#Question 2 \n",
        "#Write a NumPy program to compute the sum of the diagonal elements of a given array.\n",
        "#Hint: Two methods to solve this problem: 1. manually(without direct function). 2. using the trace function\n",
        "\n",
        "#méthode1\n",
        "import numpy as np\n",
        "a = np.array([(1, 2,5), (3, 4,7), (5,6,1)])\n",
        "b=a.shape\n",
        "nb_chiffres=b[0]\n",
        "s=0\n",
        "for i in range(0,nb_chiffres):\n",
        "  s=s+a[i,i]\n",
        "print(s)"
      ],
      "execution_count": null,
      "outputs": [
        {
          "output_type": "stream",
          "text": [
            "6\n"
          ],
          "name": "stdout"
        }
      ]
    },
    {
      "cell_type": "code",
      "metadata": {
        "id": "78yZ-ohCnMbU",
        "colab": {
          "base_uri": "https://localhost:8080/"
        },
        "outputId": "1f519c60-7a8c-4ebe-a0aa-8861b0079a72"
      },
      "source": [
        "#methode2\n",
        "import numpy as np \n",
        "m = 0\n",
        "array = np.array([(1, 2,5), (3, 4,7), (5,6,1)])\n",
        "m=np.trace(array)\n",
        "print(m)"
      ],
      "execution_count": null,
      "outputs": [
        {
          "output_type": "stream",
          "text": [
            "6\n"
          ],
          "name": "stdout"
        }
      ]
    },
    {
      "cell_type": "code",
      "metadata": {
        "colab": {
          "base_uri": "https://localhost:8080/"
        },
        "id": "yLM0WpftsRCT",
        "outputId": "44a4bdb9-8c11-4648-b74c-879851f5608a"
      },
      "source": [
        "#Question 3\n",
        "#Given an array of your choice, get all the values higher than X :\n",
        "#if a = [[1,2],[3,5]] and x = 2 :  then 3 and 5 are higher than 2. \n",
        "def get_numbers_higher(np_array,minimum_number):\n",
        "  number_list=np_array.flatten()\n",
        "  for i in number_list:\n",
        "    if i > minimum_number:\n",
        "      print(i)\n",
        "\n",
        "#main program\n",
        "a =np.array([[1,2],[3,5]])\n",
        "get_numbers_higher(a,2)\n",
        "\n",
        "\n"
      ],
      "execution_count": null,
      "outputs": [
        {
          "output_type": "stream",
          "text": [
            "3\n",
            "5\n"
          ],
          "name": "stdout"
        }
      ]
    },
    {
      "cell_type": "code",
      "metadata": {
        "colab": {
          "base_uri": "https://localhost:8080/"
        },
        "id": "XAYRmDJzVkwu",
        "outputId": "8c937187-2487-48ef-90d7-fc0d35a77215"
      },
      "source": [
        "#Question 4\n",
        "#Given two arrays A&B having the same shape. \n",
        "#The task is to apply addition by hand: C is the new array. \n",
        "#method1:not by hand\n",
        "import numpy as np \n",
        "A=np.array([[1,2],[3,5]])\n",
        "B=np.array([[5,8],[1,4]])\n",
        "C=A+B\n",
        "D=C.tolist()\n",
        "print(C)\n",
        "print(D)"
      ],
      "execution_count": null,
      "outputs": [
        {
          "output_type": "stream",
          "text": [
            "[[ 6 10]\n",
            " [ 4  9]]\n",
            "[[6, 10], [4, 9]]\n"
          ],
          "name": "stdout"
        }
      ]
    },
    {
      "cell_type": "code",
      "metadata": {
        "colab": {
          "base_uri": "https://localhost:8080/"
        },
        "id": "jdOF4dHNlhk_",
        "outputId": "e9fbb939-f2c5-4cc2-8fea-d7b8311c609a"
      },
      "source": [
        "#mathod2:by hand\n",
        "import numpy as np\n",
        "def array_sum(A,B):\n",
        "  C=A.shape\n",
        "  Af=A.flatten()\n",
        "  Bf=B.flatten()\n",
        "  sum=lambda A,B : A+B\n",
        "  x=sum(Af,Bf)\n",
        "  y=x.reshape(C)\n",
        "  return y\n",
        "\n",
        "#main program\n",
        "A=np.array([[1,2,2],[3,5,4]])\n",
        "B=np.array([[5,8,1],[1,4,3]])\n",
        "C=array_sum(A,B)\n",
        "print(C)"
      ],
      "execution_count": null,
      "outputs": [
        {
          "output_type": "stream",
          "text": [
            "[[ 6 10  3]\n",
            " [ 4  9  7]]\n"
          ],
          "name": "stdout"
        }
      ]
    },
    {
      "cell_type": "code",
      "metadata": {
        "colab": {
          "base_uri": "https://localhost:8080/"
        },
        "id": "Fb7_dfjQsSfe",
        "outputId": "ff27b581-87b6-4a1a-d77e-b37e301b248e"
      },
      "source": [
        "#Question 5\n",
        "#Write a NumPy program to subtract the mean of each row of a given matrix.\n",
        "#Hint: use the mean function\n",
        "A=np.array([[1,2,2],[3,5,4]])\n",
        "b=A\n",
        "i=0\n",
        "j=0\n",
        "for line in A:\n",
        "  j=0\n",
        "  line_mean=line.mean()\n",
        "  for number in line:\n",
        "    new_number=number-line_mean\n",
        "    print(new_number)\n",
        "    b[i,j]=new_number\n",
        "    j=j+1\n",
        "  i=i+1\n",
        "print(b)"
      ],
      "execution_count": 76,
      "outputs": [
        {
          "output_type": "stream",
          "text": [
            "-0.6666666666666667\n",
            "0.33333333333333326\n",
            "0.33333333333333326\n",
            "-1.0\n",
            "1.0\n",
            "0.0\n",
            "[[ 0  0  0]\n",
            " [-1  1  0]]\n"
          ],
          "name": "stdout"
        }
      ]
    }
  ]
}