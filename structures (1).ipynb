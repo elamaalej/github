{
  "nbformat": 4,
  "nbformat_minor": 0,
  "metadata": {
    "colab": {
      "name": "structures.ipynb",
      "provenance": []
    },
    "kernelspec": {
      "name": "python3",
      "display_name": "Python 3"
    },
    "language_info": {
      "name": "python"
    }
  },
  "cells": [
    {
      "cell_type": "code",
      "metadata": {
        "colab": {
          "base_uri": "https://localhost:8080/"
        },
        "id": "mb1UsNEqPmkF",
        "outputId": "a0edca84-7159-41e2-b011-4f7409581a5e"
      },
      "source": [
        "#QUESTION1\n",
        "s=1\n",
        "n=int(input(\"number of items\"))\n",
        "mylist =[]\n",
        "for i in range(0,n):\n",
        "  mylist.append(int(input(\"give me a number\"))) \n",
        "print(mylist)\n",
        "for i in mylist:\n",
        "  s=s*i\n",
        "print(s)\n"
      ],
      "execution_count": null,
      "outputs": [
        {
          "output_type": "stream",
          "text": [
            "number of items4\n",
            "give me a number5\n",
            "give me a number1\n",
            "give me a number3\n",
            "give me a number2\n",
            "[5, 1, 3, 2]\n",
            "30\n"
          ],
          "name": "stdout"
        }
      ]
    },
    {
      "cell_type": "code",
      "metadata": {
        "colab": {
          "base_uri": "https://localhost:8080/"
        },
        "id": "TItqkXzkjZsQ",
        "outputId": "1cc62bde-3b2f-479c-a55c-cb42e75e4db3"
      },
      "source": [
        "#QUESTION2\n",
        "l=[(2, 5), (1, 2), (4, 4), (2, 3), (2, 1)]\n",
        "def helloteam(x):\n",
        "  return x[1]\n",
        "l.sort(key=helloteam)\n",
        "print(l)"
      ],
      "execution_count": null,
      "outputs": [
        {
          "output_type": "stream",
          "text": [
            "[(2, 1), (1, 2), (2, 3), (4, 4), (2, 5)]\n"
          ],
          "name": "stdout"
        }
      ]
    },
    {
      "cell_type": "code",
      "metadata": {
        "colab": {
          "base_uri": "https://localhost:8080/"
        },
        "id": "wUIxxuFb3o0C",
        "outputId": "7af1b67f-e13e-414c-c01a-201b7bc36f69"
      },
      "source": [
        "#QUESTION3\n",
        "d1 = {'a': 100, 'b': 200, 'c':300}\n",
        "d2 = {'a': 300, 'b': 200, 'd':400}\n",
        "d3={}\n",
        "d3=d1\n",
        "for i in d2.keys():\n",
        "  if i in d3.keys():\n",
        "    d3[i]=d3[i]+d2[i]\n",
        "  else:\n",
        "    d3[i]=d2[i]\n",
        "print(d3)\n"
      ],
      "execution_count": null,
      "outputs": [
        {
          "output_type": "stream",
          "text": [
            "{'a': 400, 'b': 400, 'c': 300, 'd': 400}\n"
          ],
          "name": "stdout"
        }
      ]
    },
    {
      "cell_type": "code",
      "metadata": {
        "colab": {
          "base_uri": "https://localhost:8080/"
        },
        "id": "QByI7Dr-WU9p",
        "outputId": "74578b43-cacb-4638-8684-117f89d0b0af"
      },
      "source": [
        "#QUESTION4\n",
        "n=int(input(\"choose a number\"))\n",
        "mydict={}\n",
        "for i in range(1,n+1):\n",
        "   mydict[i]=i*i \n",
        "print(mydict)"
      ],
      "execution_count": null,
      "outputs": [
        {
          "output_type": "stream",
          "text": [
            "choose a number8\n",
            "{1: 1, 2: 4, 3: 9, 4: 16, 5: 25, 6: 36, 7: 49, 8: 64}\n"
          ],
          "name": "stdout"
        }
      ]
    },
    {
      "cell_type": "code",
      "metadata": {
        "colab": {
          "base_uri": "https://localhost:8080/"
        },
        "id": "Ec15_RWAbJ8r",
        "outputId": "567d839d-9c4c-4ab6-a1fd-6bc86b1e2f1e"
      },
      "source": [
        "#QUESTION5\n",
        "l=[('item1', '12.20'), ('item2', '15.10'), ('item3', '24.5')]\n",
        "def mylist(x):\n",
        "  return x[1]\n",
        "l.sort(key=mylist,reverse=True)\n",
        "print(l)"
      ],
      "execution_count": null,
      "outputs": [
        {
          "output_type": "stream",
          "text": [
            "[('item3', '24.5'), ('item2', '15.10'), ('item1', '12.20')]\n"
          ],
          "name": "stdout"
        }
      ]
    },
    {
      "cell_type": "code",
      "metadata": {
        "id": "XnLUJt4Xij_2"
      },
      "source": [
        ""
      ],
      "execution_count": null,
      "outputs": []
    }
  ]
}