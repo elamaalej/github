{
  "nbformat": 4,
  "nbformat_minor": 0,
  "metadata": {
    "colab": {
      "name": "Step2 Flames.ipynb",
      "provenance": []
    },
    "kernelspec": {
      "name": "python3",
      "display_name": "Python 3"
    },
    "language_info": {
      "name": "python"
    }
  },
  "cells": [
    {
      "cell_type": "code",
      "metadata": {
        "id": "0HxPuWBwjdAS",
        "colab": {
          "base_uri": "https://localhost:8080/"
        },
        "outputId": "20aa9eda-f911-44dd-ab59-788def36e3fd"
      },
      "source": [
        "# function for removing common characters\n",
        "# with their respective occurrences\n",
        "def remove_match_char(list1, list2):\n",
        "  flag=False\n",
        "  i=0\n",
        "  while i<len(list1) :\n",
        "    j=0\n",
        "    while j<len(list2) :\n",
        "      if list1[i] == list2[j] :\n",
        "        c = list1[i]\n",
        "        list1.remove(c)\n",
        "        list2.remove(c)\n",
        "        flag=True\n",
        "        i=i-1\n",
        "        break\n",
        "      j=j+1\n",
        "    i=i+1\n",
        "  list3 = list1 + [\"*\"] + list2\n",
        "  return [list3, flag]\n",
        "\n",
        "# Driver code\n",
        "if __name__ == \"__main__\" :\n",
        "  # take first name  \n",
        "  p1 = input(\"Player 1 name : \")\n",
        " \n",
        "  # converted all letters into lower case\n",
        "  p1 = p1.lower()\n",
        " \n",
        "  # replace any space with empty string\n",
        "  p1.replace(\" \",\"\")\n",
        " \n",
        "  # make a list of letters or characters\n",
        "  p1_list = list(p1)\n",
        " \n",
        "  # take 2nd name\n",
        "  p2 = input(\"Player 2 name : \")\n",
        "  p2 = p2.lower()\n",
        "  p2.replace(\" \",\"\")\n",
        "  p2_list = list(p2)\n",
        " \n",
        "  # taking a flag as True initially\n",
        "  proceed =True\n",
        "     \n",
        "  # keep calling remove_match_char function\n",
        "  # until common characters is found or\n",
        "  # keep looping until proceed flag is True\n",
        "  while proceed :\n",
        "    # function calling and store return value\n",
        "    ret_list = remove_match_char(p1_list, p2_list)\n",
        "      \n",
        "    # take out concatenated list from return list\n",
        "    con_list = ret_list[0]\n",
        "      \n",
        "    # take out flag value from return list\n",
        "    proceed = ret_list[1]\n",
        " \n",
        "    # find the index of \"*\" / border mark\n",
        "    star_index = con_list.index(\"*\")\n",
        " \n",
        "    # list slicing perform\n",
        "         \n",
        "    # all characters before * store in p1_list\n",
        "    p1_list = con_list[ : star_index]\n",
        " \n",
        "    # all characters after * store in p2_list\n",
        "    p2_list = con_list[star_index + 1 : ]\n",
        "      \n",
        "    # count total remaining characters\n",
        "    count =len(p1_list)+len(p2_list)\n",
        "      \n",
        "    # list of FLAMES acronym\n",
        "    result = [\"Friends\", \"Love\", \"Affection\", \"Marriage\", \"Enemy\", \"Siblings\"]\n",
        "      \n",
        "    # keep looping until only one item\n",
        "    # is not remaining in the result list\n",
        "    while len(result) > 1 :\n",
        "      \n",
        "      # store that index value from\n",
        "      # where we have to perform slicing.\n",
        "      split_index = (count % len(result) - 1)\n",
        " \n",
        "      # this steps is done for performing\n",
        "      # anticlock-wise circular fashion counting.\n",
        "      if split_index >= 0 :\n",
        "        # list slicing\n",
        "        right = result[split_index + 1 : ]\n",
        "        left =result[ : split_index]\n",
        "          \n",
        "        # list concatenation\n",
        "        result = right+left\n",
        "      else :\n",
        "        result = result[ : len(result) - 1]\n",
        "# print final result\n",
        "print(\"Relationship status :\", result[0])\n",
        "   "
      ],
      "execution_count": 17,
      "outputs": [
        {
          "output_type": "stream",
          "text": [
            "Player 1 name : theo\n",
            "Player 2 name : amirabellle\n",
            "Relationship status : Affection\n"
          ],
          "name": "stdout"
        }
      ]
    },
    {
      "cell_type": "code",
      "metadata": {
        "colab": {
          "base_uri": "https://localhost:8080/"
        },
        "id": "gcQm76mmYUOk",
        "outputId": "d42d2a71-cab3-442c-a5fd-120e5a46ae19"
      },
      "source": [
        "print(20 % 6 - 1)"
      ],
      "execution_count": 2,
      "outputs": [
        {
          "output_type": "stream",
          "text": [
            "1\n"
          ],
          "name": "stdout"
        }
      ]
    }
  ]
}