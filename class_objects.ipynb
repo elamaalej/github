{
  "nbformat": 4,
  "nbformat_minor": 0,
  "metadata": {
    "colab": {
      "name": "class\\objects.ipynb",
      "provenance": []
    },
    "kernelspec": {
      "name": "python3",
      "display_name": "Python 3"
    },
    "language_info": {
      "name": "python"
    }
  },
  "cells": [
    {
      "cell_type": "code",
      "metadata": {
        "colab": {
          "base_uri": "https://localhost:8080/"
        },
        "id": "D5Q7Kk714arE",
        "outputId": "5f823ac8-a984-478d-f54d-62c00a75e01f"
      },
      "source": [
        "#QUESTION1\n",
        "#Write a python class named Point3D defined by x, y, and z. Define a method that returns (x, y ,z).\n",
        "#This tells Python to represent this object in the following format: (x, y, z).\n",
        "#Then create a variable named my_point containing a new instance of Point3D with x=1, y=2, and z=3 and print it.\n",
        "class Point3D:\n",
        "  def __init__(self,x,y,z):\n",
        "    self.x=x\n",
        "    self.y=y\n",
        "    self.z=z\n",
        "  def get_cordinates(self):\n",
        "    my_tuple=(self.x,self.y,self.z)\n",
        "    return my_tuple\n",
        "\n",
        "my_point1=Point3D(1,2,3)\n",
        "print(my_point1.get_cordinates())\n"
      ],
      "execution_count": 7,
      "outputs": [
        {
          "output_type": "stream",
          "text": [
            "(1, 2, 3)\n"
          ],
          "name": "stdout"
        }
      ]
    },
    {
      "cell_type": "code",
      "metadata": {
        "colab": {
          "base_uri": "https://localhost:8080/"
        },
        "id": "ULnQSqU58b4v",
        "outputId": "73aa828e-9020-43b7-cde4-c6a3ade68f9b"
      },
      "source": [
        "#QUESTION2\n",
        "#Write a Python class named Rectangle constructed by a length and width. \n",
        "#Define two methods area and perimeter which will compute the area and the perimeter of the rectangle.\n",
        "#Then create a variable named my_rectangle containing a new instance of Rectangle with width=3 and length = 4 and compute both of area\n",
        "#and perimeter ( the area is expected to be 3*4=12 and perimeter 2*(3+4)=14)\n",
        "class Rectangle:\n",
        "  def __init__(self,length,width):\n",
        "    self.length=length\n",
        "    self.width=width\n",
        "  def area(self):\n",
        "    s=self.length*self.width\n",
        "    return s \n",
        "  def perimeter(self):\n",
        "    return (self.length+self.width)*2\n",
        "\n",
        "#object instanciating    \n",
        "my_rectangle=Rectangle(4,3)\n",
        "print(my_rectangle.area())\n",
        "print(my_rectangle.perimeter())\n",
        "\n"
      ],
      "execution_count": 8,
      "outputs": [
        {
          "output_type": "stream",
          "text": [
            "12\n",
            "14\n"
          ],
          "name": "stdout"
        }
      ]
    },
    {
      "cell_type": "code",
      "metadata": {
        "colab": {
          "base_uri": "https://localhost:8080/"
        },
        "id": "tSsePaFj_1A-",
        "outputId": "8a31d3d6-e967-425a-f7a8-d50cad601190"
      },
      "source": [
        "#QUESTION3\n",
        "#Write a Python  class named Circle constructed by its center O and radius r.\n",
        "#Define two methods area and perimeter which will compute the area and the perimeter of the circle,\n",
        "#and isInside() method of the class which allows to test whether a point A(x, y) belongs to the circle C(O, r) or not.\n",
        "import math\n",
        "class Circle:\n",
        "  def __init__(self,Xo,Yo,r):\n",
        "    self.Xo=Xo\n",
        "    self.Yo=Yo\n",
        "    self.r=r \n",
        "  def area(self):\n",
        "    return math.pi*self.r*self.r \n",
        "  def perimeter(self):\n",
        "    return 2*self.r*math.pi\n",
        "  def isInside(self,xA,yA):\n",
        "    d1=abs(xA-self.Xo)\n",
        "    d2=abs(yA-self.Yo)\n",
        "    d3=math.sqrt(d1*d1+d2*d2)\n",
        "    return d3<=self.r\n",
        "    \n",
        "\n",
        "#object instanciating\n",
        "my_circle1=Circle(2,5,7)\n",
        "print(my_circle1.area())\n",
        "print(my_circle1.perimeter())\n",
        "print(my_circle1.isInside(3,4))"
      ],
      "execution_count": 20,
      "outputs": [
        {
          "output_type": "stream",
          "text": [
            "153.93804002589985\n",
            "43.982297150257104\n",
            "True\n"
          ],
          "name": "stdout"
        }
      ]
    },
    {
      "cell_type": "code",
      "metadata": {
        "colab": {
          "base_uri": "https://localhost:8080/"
        },
        "id": "WwoAriS4KDlJ",
        "outputId": "c373b778-a4a9-4ed4-c8c6-c425c0d0d3fb"
      },
      "source": [
        "#QUESTION4\n",
        "#Suppose we want to model a bank account with support for deposit and withdraw operations. \n",
        "#Let’s create a python class named bank defined by its balance.\n",
        "#Define two methods deposit and withdraw to compute the new amount of each operation.\n",
        "class bank:\n",
        "  balance=0\n",
        "  def __init__(self,balance):\n",
        "    self.balance=balance\n",
        "  def deposit(self,deposit_amount):\n",
        "    self.balance=self.balance+deposit_amount\n",
        "    return self.balance\n",
        "  def withdraw(self,withdraw_amount):\n",
        "    self.balance=self.balance-withdraw_amount\n",
        "    return self.balance\n",
        "  def get_balance(self):\n",
        "    return self.balance\n",
        "\n",
        "#object instanciating\n",
        "my_bank1=bank(0)\n",
        "print(my_bank1.get_balance())\n",
        "print(my_bank1.deposit(500))\n",
        "my_bank1.deposit(700)\n",
        "my_bank1.withdraw(200)\n",
        "my_bank1.withdraw(100)\n",
        "print(my_bank1.get_balance())\n"
      ],
      "execution_count": 26,
      "outputs": [
        {
          "output_type": "stream",
          "text": [
            "0\n",
            "500\n",
            "900\n"
          ],
          "name": "stdout"
        }
      ]
    },
    {
      "cell_type": "markdown",
      "metadata": {
        "id": "wT8tl2G5__qS"
      },
      "source": [
        ""
      ]
    }
  ]
}