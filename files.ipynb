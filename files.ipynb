{
  "nbformat": 4,
  "nbformat_minor": 0,
  "metadata": {
    "colab": {
      "name": "files.ipynb",
      "provenance": []
    },
    "kernelspec": {
      "name": "python3",
      "display_name": "Python 3"
    },
    "language_info": {
      "name": "python"
    }
  },
  "cells": [
    {
      "cell_type": "code",
      "metadata": {
        "colab": {
          "base_uri": "https://localhost:8080/"
        },
        "id": "IoHUQl0bT1KP",
        "outputId": "57ef6eca-8aba-4318-fb5d-1dc832b8b654"
      },
      "source": [
        "\n",
        "\n",
        "#creat the sample file test.txt\n",
        "with open(\"my_data\",'w',encoding = 'utf-8') as f:\n",
        "   f.write(\"What is Python language?\\n\")\n",
        "   f.write(\"Python is a widely used high-level, general-purpose, interpreted, dynamic programming language.\\n\")\n",
        "   f.write(\"Its design philosophy emphasizes code readability, and its syntax allows programmers to express concepts in fewer lines of code than possible in languages such as C++ or Java.\\n\")\n",
        "   f.write(\"Python supports multiple programming paradigms, including object-oriented, imperative and functional programming or procedural styles. \\n\")\n",
        "   f.write(\"It features a dynamic type system and automatic memory management and has a large and comprehensive standard library.\\n\")\n",
        "   f.write(\"The best way we learn anything is by practice and exercise questions.\\n\")\n",
        "   f.write(\"We  have started this section for those (beginner to intermediate) who are familiar with Python.\\n\")\n",
        "#1. Write a Python program to read an entire text file.\n",
        "f = open(\"my_data\",'r',encoding = 'utf-8')\n",
        "for line in f:\n",
        "   print(line, end = '')  \n",
        "f.close()"
      ],
      "execution_count": 85,
      "outputs": [
        {
          "output_type": "stream",
          "text": [
            "What is Python language?\n",
            "Python is a widely used high-level, general-purpose, interpreted, dynamic programming language.\n",
            "Its design philosophy emphasizes code readability, and its syntax allows programmers to express concepts in fewer lines of code than possible in languages such as C++ or Java.\n",
            "Python supports multiple programming paradigms, including object-oriented, imperative and functional programming or procedural styles. \n",
            "It features a dynamic type system and automatic memory management and has a large and comprehensive standard library.\n",
            "The best way we learn anything is by practice and exercise questions.\n",
            "We  have started this section for those (beginner to intermediate) who are familiar with Python.\n"
          ],
          "name": "stdout"
        }
      ]
    },
    {
      "cell_type": "code",
      "metadata": {
        "colab": {
          "base_uri": "https://localhost:8080/"
        },
        "id": "oyabhi7PX0vF",
        "outputId": "aacd82d2-87c4-474d-ed94-059bc95301d3"
      },
      "source": [
        "#2. Write a Python program to read first n lines of a file.\n",
        "f = open(\"my_data\",'r',encoding = 'utf-8')\n",
        "n=int(input())\n",
        "for i in range(1,n+1):\n",
        "  print(f.readline())\n",
        "f.close()"
      ],
      "execution_count": 86,
      "outputs": [
        {
          "output_type": "stream",
          "text": [
            "4\n",
            "What is Python language?\n",
            "\n",
            "Python is a widely used high-level, general-purpose, interpreted, dynamic programming language.\n",
            "\n",
            "Its design philosophy emphasizes code readability, and its syntax allows programmers to express concepts in fewer lines of code than possible in languages such as C++ or Java.\n",
            "\n",
            "Python supports multiple programming paradigms, including object-oriented, imperative and functional programming or procedural styles. \n",
            "\n"
          ],
          "name": "stdout"
        }
      ]
    },
    {
      "cell_type": "code",
      "metadata": {
        "colab": {
          "base_uri": "https://localhost:8080/"
        },
        "id": "9fbCz9iBcR_u",
        "outputId": "60d991bd-2818-400d-820b-363e0185cc78"
      },
      "source": [
        "#3. Write a Python program to read last n lines of a file\n",
        "f = open(\"my_data\",'r',encoding = 'utf-8')\n",
        "n=int(input())\n",
        "lines_count=len(f.readlines()) \n",
        "f.close()\n",
        "f = open(\"my_data\",'r',encoding = 'utf-8')\n",
        "for i in range(1,lines_count+1):\n",
        "  if i>=lines_count-n+1:\n",
        "    print(f.readline())\n",
        "  else:\n",
        "    f.readline()\n",
        "f.close()\n"
      ],
      "execution_count": 87,
      "outputs": [
        {
          "output_type": "stream",
          "text": [
            "4\n",
            "Python supports multiple programming paradigms, including object-oriented, imperative and functional programming or procedural styles. \n",
            "\n",
            "It features a dynamic type system and automatic memory management and has a large and comprehensive standard library.\n",
            "\n",
            "The best way we learn anything is by practice and exercise questions.\n",
            "\n",
            "We  have started this section for those (beginner to intermediate) who are familiar with Python.\n",
            "\n"
          ],
          "name": "stdout"
        }
      ]
    },
    {
      "cell_type": "code",
      "metadata": {
        "colab": {
          "base_uri": "https://localhost:8080/"
        },
        "id": "6qQ2L9dno5yW",
        "outputId": "b4f040bc-78d9-49c0-8f34-aac739e6e2fb"
      },
      "source": [
        "#4. Write a Python program that takes a text file as input and returns the number of words of a given text file.\n",
        "textfile=input()\n",
        "f = open(textfile,'r',encoding = 'utf-8')\n",
        "number_of_words=0\n",
        "for line in f:\n",
        "  word_list = line.split()\n",
        "  number_of_words = number_of_words+len(word_list)\n",
        "\n",
        "print(number_of_words)\n"
      ],
      "execution_count": 89,
      "outputs": [
        {
          "output_type": "stream",
          "text": [
            "my_data\n",
            "102\n"
          ],
          "name": "stdout"
        }
      ]
    },
    {
      "cell_type": "code",
      "metadata": {
        "id": "T4O78a7xyHI0"
      },
      "source": [
        "\n"
      ],
      "execution_count": 84,
      "outputs": []
    }
  ]
}