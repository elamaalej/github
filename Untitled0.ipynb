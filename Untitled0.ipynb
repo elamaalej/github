{
  "nbformat": 4,
  "nbformat_minor": 0,
  "metadata": {
    "colab": {
      "name": "Untitled0.ipynb",
      "provenance": [],
      "collapsed_sections": []
    },
    "kernelspec": {
      "name": "python3",
      "display_name": "Python 3"
    },
    "language_info": {
      "name": "python"
    }
  },
  "cells": [
    {
      "cell_type": "code",
      "metadata": {
        "colab": {
          "base_uri": "https://localhost:8080/"
        },
        "id": "tLLEg5LYWYxl",
        "outputId": "e970126c-a30b-445a-c5f7-2c8c5b36a735"
      },
      "source": [
        " print(\"Welcome to python world! Let's start coding\")\n",
        " "
      ],
      "execution_count": 1,
      "outputs": [
        {
          "output_type": "stream",
          "text": [
            "Welcome to python world! Let's start coding\n"
          ],
          "name": "stdout"
        }
      ]
    }
  ]
}