{
  "nbformat": 4,
  "nbformat_minor": 0,
  "metadata": {
    "colab": {
      "name": "Step1 Flames.ipynb",
      "provenance": []
    },
    "kernelspec": {
      "name": "python3",
      "display_name": "Python 3"
    },
    "language_info": {
      "name": "python"
    }
  },
  "cells": [
    {
      "cell_type": "code",
      "metadata": {
        "colab": {
          "base_uri": "https://localhost:8080/"
        },
        "id": "S31FNEnxtfxh",
        "outputId": "08885901-d877-4d93-9c24-89215b1d1670"
      },
      "source": [
        "# function for removing common characters\n",
        "# with their respective occurrences\n",
        "def remove_match_char(list1, list2):\n",
        "  flag=False\n",
        "  i=0\n",
        "  while i<len(list1) :\n",
        "    j=0\n",
        "    while j<len(list2) :\n",
        "      if list1[i] == list2[j] :\n",
        "        c = list1[i]\n",
        "        list1.remove(c)\n",
        "        list2.remove(c)\n",
        "        flag=True\n",
        "        i=i-1\n",
        "        break\n",
        "      j=j+1\n",
        "    i=i+1\n",
        "  list3 = list1 + [\"*\"] + list2\n",
        "  return [list3, flag]\n",
        "\n",
        "remove_match_char([\"a\",\"b\",\"c\",\"d\"], [\"b\",\"f\",\"a\"])"
      ],
      "execution_count": 6,
      "outputs": [
        {
          "output_type": "execute_result",
          "data": {
            "text/plain": [
              "[['c', 'd', '*', 'f'], True]"
            ]
          },
          "metadata": {
            "tags": []
          },
          "execution_count": 6
        }
      ]
    },
    {
      "cell_type": "code",
      "metadata": {
        "id": "bQPqtB55ciex"
      },
      "source": [
        ""
      ],
      "execution_count": null,
      "outputs": []
    }
  ]
}