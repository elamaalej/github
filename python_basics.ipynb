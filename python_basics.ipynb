{
  "nbformat": 4,
  "nbformat_minor": 0,
  "metadata": {
    "colab": {
      "name": "python basics",
      "provenance": [],
      "authorship_tag": "ABX9TyPrI7JOPNIJQrNm0ZrPU7t1",
      "include_colab_link": true
    },
    "kernelspec": {
      "name": "python3",
      "display_name": "Python 3"
    },
    "language_info": {
      "name": "python"
    }
  },
  "cells": [
    {
      "cell_type": "markdown",
      "metadata": {
        "id": "view-in-github",
        "colab_type": "text"
      },
      "source": [
        "<a href=\"https://colab.research.google.com/github/elamaalej/github/blob/main/python_basics.ipynb\" target=\"_parent\"><img src=\"https://colab.research.google.com/assets/colab-badge.svg\" alt=\"Open In Colab\"/></a>"
      ]
    },
    {
      "cell_type": "code",
      "metadata": {
        "colab": {
          "base_uri": "https://localhost:8080/"
        },
        "id": "FG9Hn-gLjUaU",
        "outputId": "53c50bfd-d18d-4df4-edb6-0b34972dd562"
      },
      "source": [
        "x=input(\"your first name\")\n",
        "y=input(\"your last name\")\n",
        "z=\" \"\n",
        "print(y+z+x)\n"
      ],
      "execution_count": null,
      "outputs": [
        {
          "output_type": "stream",
          "text": [
            "your first nameela\n",
            "your last namemaalej\n",
            "maalej ela\n"
          ],
          "name": "stdout"
        }
      ]
    },
    {
      "cell_type": "code",
      "metadata": {
        "colab": {
          "base_uri": "https://localhost:8080/"
        },
        "id": "UlcA88Fz8fXR",
        "outputId": "06fae29a-b11a-480e-c555-a97fbac486b3"
      },
      "source": [
        "sn=input()\n",
        "snn=sn+sn\n",
        "snnn=sn+sn+sn\n",
        "n=int(sn)\n",
        "nn=int(snn)\n",
        "nnn=int(snnn)\n",
        "print(sn+\"+\"+snn+\"+\"+snnn+\"=\",n+nn+nnn)\n"
      ],
      "execution_count": null,
      "outputs": [
        {
          "output_type": "stream",
          "text": [
            "5\n",
            "5+55+555= 615\n"
          ],
          "name": "stdout"
        }
      ]
    },
    {
      "cell_type": "code",
      "metadata": {
        "colab": {
          "base_uri": "https://localhost:8080/"
        },
        "id": "ED9mbF1lBMTJ",
        "outputId": "856f70d0-de5e-42e4-fb6e-55276147c80d"
      },
      "source": [
        "x=int(input())\n",
        "if x%2==0:\n",
        "    print(\"this is an even number\")\n",
        "else:\n",
        "    print(\"this is an odd number\")"
      ],
      "execution_count": null,
      "outputs": [
        {
          "output_type": "stream",
          "text": [
            "4\n",
            "this is an even number\n"
          ],
          "name": "stdout"
        }
      ]
    },
    {
      "cell_type": "code",
      "metadata": {
        "colab": {
          "base_uri": "https://localhost:8080/"
        },
        "id": "hJrie0i9EUly",
        "outputId": "2fa59492-1732-46a6-9ac7-96955b9d192c"
      },
      "source": [
        "x=\"\"\n",
        "\n",
        "for i in range(2002,3201,7):\n",
        "    if i%5!=0:\n",
        "      x=x+\",\"+str(i)\n",
        "print(x)\n",
        "    "
      ],
      "execution_count": null,
      "outputs": [
        {
          "output_type": "stream",
          "text": [
            ",2002,2009,2016,2023,2037,2044,2051,2058,2072,2079,2086,2093,2107,2114,2121,2128,2142,2149,2156,2163,2177,2184,2191,2198,2212,2219,2226,2233,2247,2254,2261,2268,2282,2289,2296,2303,2317,2324,2331,2338,2352,2359,2366,2373,2387,2394,2401,2408,2422,2429,2436,2443,2457,2464,2471,2478,2492,2499,2506,2513,2527,2534,2541,2548,2562,2569,2576,2583,2597,2604,2611,2618,2632,2639,2646,2653,2667,2674,2681,2688,2702,2709,2716,2723,2737,2744,2751,2758,2772,2779,2786,2793,2807,2814,2821,2828,2842,2849,2856,2863,2877,2884,2891,2898,2912,2919,2926,2933,2947,2954,2961,2968,2982,2989,2996,3003,3017,3024,3031,3038,3052,3059,3066,3073,3087,3094,3101,3108,3122,3129,3136,3143,3157,3164,3171,3178,3192,3199\n"
          ],
          "name": "stdout"
        }
      ]
    },
    {
      "cell_type": "code",
      "metadata": {
        "colab": {
          "base_uri": "https://localhost:8080/"
        },
        "id": "bqwCh1gbPhR4",
        "outputId": "dbff8148-9f61-4894-9ab1-34b2c681819b"
      },
      "source": [
        "i=int(input())\n",
        "x=1 \n",
        "while i>=1:\n",
        "    x=x*i\n",
        "    i=i-1  \n",
        "print(x)"
      ],
      "execution_count": null,
      "outputs": [
        {
          "output_type": "stream",
          "text": [
            "8\n",
            "40320\n"
          ],
          "name": "stdout"
        }
      ]
    },
    {
      "cell_type": "code",
      "metadata": {
        "colab": {
          "base_uri": "https://localhost:8080/"
        },
        "id": "bWyjmD8GcWvg",
        "outputId": "f5c7ac26-9853-46ae-f639-3ab00921475d"
      },
      "source": [
        "y=\"\"\n",
        "x=input()\n",
        "i=0\n",
        "n=len(x)\n",
        "while i<n:\n",
        "  if i%2==0:\n",
        "     y=y+x[i]\n",
        "     \n",
        "  i=i+1\n",
        "print(y)\n",
        "\n",
        "\n",
        "  \n"
      ],
      "execution_count": 66,
      "outputs": [
        {
          "output_type": "stream",
          "text": [
            "hello team\n",
            "hlota\n"
          ],
          "name": "stdout"
        }
      ]
    },
    {
      "cell_type": "code",
      "metadata": {
        "id": "8PrR8gedmXKU",
        "colab": {
          "base_uri": "https://localhost:8080/"
        },
        "outputId": "6339f70f-79fe-4e8b-87f8-5730f7398fc4"
      },
      "source": [
        "n=int(input())\n",
        "if n>500:\n",
        "  print(n*0.5)\n",
        "elif n>200:\n",
        "  print(n*0.7)\n",
        "else:\n",
        "  print(n*0.9)\n",
        "\n",
        "\n"
      ],
      "execution_count": 70,
      "outputs": [
        {
          "output_type": "stream",
          "text": [
            "500\n",
            "350.0\n"
          ],
          "name": "stdout"
        }
      ]
    }
  ]
}