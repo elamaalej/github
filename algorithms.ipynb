{
  "nbformat": 4,
  "nbformat_minor": 0,
  "metadata": {
    "colab": {
      "name": "algorithms",
      "provenance": [],
      "collapsed_sections": []
    },
    "kernelspec": {
      "name": "python3",
      "display_name": "Python 3"
    },
    "language_info": {
      "name": "python"
    }
  },
  "cells": [
    {
      "cell_type": "code",
      "metadata": {
        "colab": {
          "base_uri": "https://localhost:8080/"
        },
        "id": "IbSZ3wOUmi-0",
        "outputId": "2def03b8-51d9-4496-c8dd-909cbd17dcea"
      },
      "source": [
        "#1. Write a Python program for binary search.\n",
        "#Test Data :\n",
        "#binary_search([1,2,3,5,8], 6) -> False\n",
        "#binary_search([1,2,3,5,8], 5) -> True\n",
        "\n",
        "def binary_search(sequence,item):\n",
        "  first_index=0\n",
        "  last_index=len(sequence)-1\n",
        "  while first_index<=last_index:\n",
        "    midpoint_index=(first_index+last_index)//2\n",
        "    midpoint_value=sequence[midpoint_index]\n",
        "    if midpoint_value==item:\n",
        "      return True\n",
        "    elif item>midpoint_value:\n",
        "      first_index=midpoint_index+1\n",
        "    else:\n",
        "      last_index=midpoint_index-1\n",
        "  return False \n",
        "\n",
        "print(binary_search([1,2,3,5,8], 6))\n",
        "print(binary_search([1,2,3,5,8], 5))\n",
        "\n",
        "\n"
      ],
      "execution_count": 15,
      "outputs": [
        {
          "output_type": "stream",
          "text": [
            "False\n",
            "True\n"
          ],
          "name": "stdout"
        }
      ]
    },
    {
      "cell_type": "code",
      "metadata": {
        "colab": {
          "base_uri": "https://localhost:8080/"
        },
        "id": "HmS2mninpnJW",
        "outputId": "28ac6659-092b-4187-d2cb-f45c43e043c5"
      },
      "source": [
        "#2. Write a Python program to calculate the value of 'a' to the power 'b'.\n",
        "#Test Data : \n",
        "#(power(3,4) -> 81\n",
        "\n",
        "#solution1\n",
        "def power(a,b):\n",
        "  x=a**b\n",
        "  return x\n",
        "\n",
        "print(power(3,4))\n",
        "\n",
        "#solution2\n",
        "def power2(a,b):\n",
        "  res=1\n",
        "  for i in range(0,b):\n",
        "    res=res*a\n",
        "  return res\n",
        "\n",
        "print(power2(3,4)) \n",
        "  \n",
        "\n"
      ],
      "execution_count": 20,
      "outputs": [
        {
          "output_type": "stream",
          "text": [
            "81\n",
            "81\n"
          ],
          "name": "stdout"
        }
      ]
    },
    {
      "cell_type": "code",
      "metadata": {
        "colab": {
          "base_uri": "https://localhost:8080/"
        },
        "id": "up2Gpuad0SS_",
        "outputId": "d2b37595-2fb5-4576-809c-a0a1d0b84b27"
      },
      "source": [
        "#3. Write a Python program to sort a list of elements using the bubble sort algorithm.\n",
        "#Sample Data: [29,13,22,37,42,49,46,71,56]\n",
        "#Expected Result: [13, 22, 29, 37, 42, 46, 49, 56, 71]\n",
        "\n",
        "def bubble_sort(list):\n",
        "  for passnum in range(len(list)-1,0,-1):\n",
        "    for i in range(0,passnum):\n",
        "      if list[i]>list[i+1]:\n",
        "        temp=list[i]\n",
        "        list[i]=list[i+1]\n",
        "        list[i+1]=temp\n",
        "  return list\n",
        "\n",
        "bubble_sort([29,13,22,37,42,49,46,71,56])"
      ],
      "execution_count": 23,
      "outputs": [
        {
          "output_type": "execute_result",
          "data": {
            "text/plain": [
              "[13, 22, 29, 37, 42, 46, 49, 56, 71]"
            ]
          },
          "metadata": {
            "tags": []
          },
          "execution_count": 23
        }
      ]
    },
    {
      "cell_type": "code",
      "metadata": {
        "colab": {
          "base_uri": "https://localhost:8080/"
        },
        "id": "Jo40ve8-L3A_",
        "outputId": "7909904b-84c9-4fcb-a75f-8b858bac60e7"
      },
      "source": [
        "#4. Write a Python program to sort a list of elements using the merge sort algorithm.\n",
        "#Sample Data: [29,13,22,37,42,49,46,71,56]\n",
        "#Expected Result: [13, 22, 29, 37, 42, 46, 49, 56, 71]\n",
        "def mergeSort(myList):\n",
        "    if len(myList) > 1:\n",
        "      mid = len(myList) // 2\n",
        "      left = myList[:mid]\n",
        "      right = myList[mid:]\n",
        "      \n",
        "      mergeSort(left)\n",
        "      mergeSort(right)\n",
        "\n",
        "      i = 0\n",
        "      j = 0\n",
        "      k = 0\n",
        "      len_left=len(left)\n",
        "      len_right=len(right)\n",
        "      while i < len_left and j < len_right:\n",
        "        if left[i] < right[j]:\n",
        "          myList[k] = left[i]\n",
        "          i=i+1\n",
        "          k=k+1\n",
        "        else:\n",
        "          myList[k] = right[j]\n",
        "          j=j+1\n",
        "          k=k+1\n",
        "      for i in range(i,len_left):\n",
        "        myList[k]=left[i]\n",
        "        k=k+1\n",
        "      for j in range(j,len_right):\n",
        "        myList[k]=right[j]\n",
        "        k=k+1\n",
        "\n",
        "myList = [29,13,22,37,42,49,46,71,56]\n",
        "mergeSort(myList)\n",
        "print(myList)\n",
        "\n"
      ],
      "execution_count": 49,
      "outputs": [
        {
          "output_type": "stream",
          "text": [
            "[13, 22, 29, 37, 42, 46, 49, 56, 71]\n"
          ],
          "name": "stdout"
        }
      ]
    },
    {
      "cell_type": "code",
      "metadata": {
        "colab": {
          "base_uri": "https://localhost:8080/"
        },
        "id": "LIstCR2O-LkT",
        "outputId": "7ac819ce-4c48-4d3a-de4c-0b8116d27ee4"
      },
      "source": [
        "#5. Write a Python program to sort a list of elements using the quick sort algorithm.\n",
        "#Sample Data: [29,13,22,37,52,49,46,71,56]\n",
        "#Expected Result: [13, 22, 29, 37, 42, 46, 49, 56, 71]\n",
        "def partition(array, start, end):\n",
        "    pivot = array[start]\n",
        "    item_from_the_left = start + 1\n",
        "    item_from_the_right = end\n",
        "    \n",
        "    while True:\n",
        "        #search item from the right\n",
        "        while item_from_the_left <= item_from_the_right and array[item_from_the_right] >= pivot:\n",
        "            item_from_the_right = item_from_the_right - 1\n",
        "\n",
        "        #search item from the left\n",
        "        while item_from_the_left <= item_from_the_right and array[item_from_the_left] <= pivot:\n",
        "            item_from_the_left = item_from_the_left + 1\n",
        "\n",
        "      \n",
        "        if item_from_the_left <= item_from_the_right:\n",
        "            array[item_from_the_left], array[item_from_the_right] = array[item_from_the_right], array[item_from_the_left]\n",
        "        else:\n",
        "            break\n",
        "\n",
        "    array[start], array[item_from_the_right] = array[item_from_the_right], array[start]\n",
        "\n",
        "    return item_from_the_right\n",
        "\n",
        "def quick_sort(array, start, end):\n",
        "  if start >= end:\n",
        "    return\n",
        "  else:\n",
        "    p = partition(array, start, end)\n",
        "    quick_sort(array, start, p-1)\n",
        "    quick_sort(array, p+1, end)\n",
        "\n",
        "array = [29,13,22,37,52,49,46,71,56]\n",
        "quick_sort(array, 0, len(array) - 1)\n",
        "print(array)\n"
      ],
      "execution_count": 4,
      "outputs": [
        {
          "output_type": "stream",
          "text": [
            "[13, 22, 29, 37, 46, 49, 52, 56, 71]\n"
          ],
          "name": "stdout"
        }
      ]
    }
  ]
}